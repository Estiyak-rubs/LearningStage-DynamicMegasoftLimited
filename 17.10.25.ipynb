{
 "cells": [
  {
   "cell_type": "code",
   "execution_count": 1,
   "id": "a5640fa3",
   "metadata": {},
   "outputs": [
    {
     "name": "stdout",
     "output_type": "stream",
     "text": [
      "Requirement already satisfied: requests in c:\\users\\estiyak\\appdata\\local\\programs\\python\\python313\\lib\\site-packages (2.32.5)\n",
      "Requirement already satisfied: charset_normalizer<4,>=2 in c:\\users\\estiyak\\appdata\\local\\programs\\python\\python313\\lib\\site-packages (from requests) (3.4.4)\n",
      "Requirement already satisfied: idna<4,>=2.5 in c:\\users\\estiyak\\appdata\\local\\programs\\python\\python313\\lib\\site-packages (from requests) (3.11)\n",
      "Requirement already satisfied: urllib3<3,>=1.21.1 in c:\\users\\estiyak\\appdata\\local\\programs\\python\\python313\\lib\\site-packages (from requests) (2.5.0)\n",
      "Requirement already satisfied: certifi>=2017.4.17 in c:\\users\\estiyak\\appdata\\local\\programs\\python\\python313\\lib\\site-packages (from requests) (2025.10.5)\n"
     ]
    },
    {
     "name": "stderr",
     "output_type": "stream",
     "text": [
      "\n",
      "[notice] A new release of pip is available: 24.3.1 -> 25.2\n",
      "[notice] To update, run: python.exe -m pip install --upgrade pip\n"
     ]
    }
   ],
   "source": [
    "!pip install requests\n",
    "\n"
   ]
  },
  {
   "cell_type": "code",
   "execution_count": 2,
   "id": "fd10ff68",
   "metadata": {},
   "outputs": [
    {
     "name": "stdout",
     "output_type": "stream",
     "text": [
      "IBM: 275.5400\n"
     ]
    }
   ],
   "source": [
    "import requests\n",
    "\n",
    "def get_stock_data():\n",
    "    url = \"https://www.alphavantage.co/query?function=TIME_SERIES_INTRADAY&symbol=IBM&interval=5min&outputsize=full&apikey=demo\"\n",
    "    response = requests.get(url)\n",
    "    \n",
    "    if response.status_code == 200:\n",
    "        data = response.json()\n",
    "        last_refreshed = data[\"Meta Data\"][\"3. Last Refreshed\"]\n",
    "        price = data[\"Time Series (5min)\"][last_refreshed][\"1. open\"]\n",
    "        return price\n",
    "    else:\n",
    "        return None\n",
    "\n",
    "price = get_stock_data()\n",
    "symbol = \"IBM\"\n",
    "if price is not None:\n",
    "    print(f\"{symbol}: {price}\")\n",
    "else:\n",
    "    print(\"Failed to retrieve data.\")"
   ]
  },
  {
   "cell_type": "markdown",
   "id": "cf50f82a",
   "metadata": {},
   "source": [
    "Understanding API Status Codes\n",
    "Status codes tell us how the server handled our request:\n",
    "\n",
    "200 OK: Request successful, data returned.\n",
    "201 Created: New resource created.\n",
    "204 No Content: Success but no data returned.\n",
    "400 Bad Request: Invalid request.\n",
    "401 Unauthorized: Missing or invalid API key.\n",
    "500 Internal Server Error: Server encountered an error."
   ]
  },
  {
   "cell_type": "code",
   "execution_count": 3,
   "id": "ec2fa1cf",
   "metadata": {},
   "outputs": [
    {
     "name": "stdout",
     "output_type": "stream",
     "text": [
      "401\n"
     ]
    }
   ],
   "source": [
    "import requests\n",
    "\n",
    "API_KEY = 'your_api_key_here'\n",
    "url = f\"https://newsapi.org/v2/top-headlines?country=us&category=business&apiKey=%7BAPI_KEY%7D\"\n",
    "response = requests.get(url)\n",
    "print(response.status_code)"
   ]
  },
  {
   "cell_type": "code",
   "execution_count": 4,
   "id": "0f53045d",
   "metadata": {},
   "outputs": [
    {
     "name": "stdout",
     "output_type": "stream",
     "text": [
      "Error: 401\n"
     ]
    }
   ],
   "source": [
    "import json\n",
    "import requests\n",
    "\n",
    "def fetch_and_print_articles(api_url):\n",
    "    response = requests.get(api_url)\n",
    "    \n",
    "    if response.status_code == 200:\n",
    "        articles = response.json().get('articles', [])\n",
    "        \n",
    "        for index, article in enumerate(articles[:1], start=1):\n",
    "            print(f\"Article {index}:\\n{json.dumps(article, sort_keys=True, indent=4)}\\n\")\n",
    "    else:\n",
    "        print(f\"Error: {response.status_code}\")\n",
    "\n",
    "API_KEY = 'paste_your_api_key_here'\n",
    "api_endpoint = f\"https://newsapi.org/v2/top-headlines?country=us&category=business&apiKey=%7BAPI_KEY%7D\"\n",
    "\n",
    "fetch_and_print_articles(api_endpoint)\n",
    "\n",
    "def jprint(obj):\n",
    "    print(json.dumps(obj, sort_keys=True, indent=4))"
   ]
  },
  {
   "cell_type": "markdown",
   "id": "463eefbc",
   "metadata": {},
   "source": [
    "**Example 3: Tracking the International Space Station (ISS) Location**\n",
    "This example uses several libraries to track ISS in real-time and map its position using Python’s turtle graphics.\n",
    "\n",
    "Key libraries used:\n",
    "json: For decoding JSON data from API.\n",
    "turtle: For graphical map display.\n",
    "urllib.request: To fetch API data.\n",
    "time: For periodic updates.\n",
    "webbrowser: To open files.\n",
    "geocoder: To find current user location."
   ]
  },
  {
   "cell_type": "code",
   "execution_count": 5,
   "id": "58e66443",
   "metadata": {},
   "outputs": [
    {
     "name": "stdout",
     "output_type": "stream",
     "text": [
      "{'people': [{'craft': 'ISS', 'name': 'Oleg Kononenko'}, {'craft': 'ISS', 'name': 'Nikolai Chub'}, {'craft': 'ISS', 'name': 'Tracy Caldwell Dyson'}, {'craft': 'ISS', 'name': 'Matthew Dominick'}, {'craft': 'ISS', 'name': 'Michael Barratt'}, {'craft': 'ISS', 'name': 'Jeanette Epps'}, {'craft': 'ISS', 'name': 'Alexander Grebenkin'}, {'craft': 'ISS', 'name': 'Butch Wilmore'}, {'craft': 'ISS', 'name': 'Sunita Williams'}, {'craft': 'Tiangong', 'name': 'Li Guangsu'}, {'craft': 'Tiangong', 'name': 'Li Cong'}, {'craft': 'Tiangong', 'name': 'Ye Guangfu'}], 'number': 12, 'message': 'success'}\n"
     ]
    }
   ],
   "source": [
    "import json\n",
    "import urllib.request\n",
    "\n",
    "url = \"http://api.open-notify.org/astros.json\"\n",
    "response = urllib.request.urlopen(url)\n",
    "result = json.loads(response.read())\n",
    "print(result)"
   ]
  },
  {
   "cell_type": "code",
   "execution_count": 6,
   "id": "e4f916c6",
   "metadata": {},
   "outputs": [],
   "source": [
    "file = open(\"iss.txt\", \"w\")\n",
    "file.write(f\"There are currently {result['number']} astronauts on the ISS:\\n\\n\")\n",
    "\n",
    "for person in result[\"people\"]:\n",
    "    file.write(person['name'] + \" - onboard\\n\")\n",
    "\n",
    "file.close()"
   ]
  },
  {
   "cell_type": "code",
   "execution_count": 7,
   "id": "75e326f6",
   "metadata": {},
   "outputs": [
    {
     "name": "stdout",
     "output_type": "stream",
     "text": [
      "Requirement already satisfied: geocoder in c:\\users\\estiyak\\appdata\\local\\programs\\python\\python313\\lib\\site-packages (1.38.1)\n",
      "Requirement already satisfied: click in c:\\users\\estiyak\\appdata\\local\\programs\\python\\python313\\lib\\site-packages (from geocoder) (8.3.0)\n",
      "Requirement already satisfied: future in c:\\users\\estiyak\\appdata\\local\\programs\\python\\python313\\lib\\site-packages (from geocoder) (1.0.0)\n",
      "Requirement already satisfied: ratelim in c:\\users\\estiyak\\appdata\\local\\programs\\python\\python313\\lib\\site-packages (from geocoder) (0.1.6)\n",
      "Requirement already satisfied: requests in c:\\users\\estiyak\\appdata\\local\\programs\\python\\python313\\lib\\site-packages (from geocoder) (2.32.5)\n",
      "Requirement already satisfied: six in c:\\users\\estiyak\\appdata\\roaming\\python\\python313\\site-packages (from geocoder) (1.17.0)\n",
      "Requirement already satisfied: colorama in c:\\users\\estiyak\\appdata\\roaming\\python\\python313\\site-packages (from click->geocoder) (0.4.6)\n",
      "Requirement already satisfied: decorator in c:\\users\\estiyak\\appdata\\roaming\\python\\python313\\site-packages (from ratelim->geocoder) (5.2.1)\n",
      "Requirement already satisfied: charset_normalizer<4,>=2 in c:\\users\\estiyak\\appdata\\local\\programs\\python\\python313\\lib\\site-packages (from requests->geocoder) (3.4.4)\n",
      "Requirement already satisfied: idna<4,>=2.5 in c:\\users\\estiyak\\appdata\\local\\programs\\python\\python313\\lib\\site-packages (from requests->geocoder) (3.11)\n",
      "Requirement already satisfied: urllib3<3,>=1.21.1 in c:\\users\\estiyak\\appdata\\local\\programs\\python\\python313\\lib\\site-packages (from requests->geocoder) (2.5.0)\n",
      "Requirement already satisfied: certifi>=2017.4.17 in c:\\users\\estiyak\\appdata\\local\\programs\\python\\python313\\lib\\site-packages (from requests->geocoder) (2025.10.5)\n"
     ]
    },
    {
     "name": "stderr",
     "output_type": "stream",
     "text": [
      "\n",
      "[notice] A new release of pip is available: 24.3.1 -> 25.2\n",
      "[notice] To update, run: python.exe -m pip install --upgrade pip\n"
     ]
    },
    {
     "name": "stdout",
     "output_type": "stream",
     "text": [
      "Your current location: [23.7104, 90.4074]\n"
     ]
    }
   ],
   "source": [
    "!pip install geocoder\n",
    "import geocoder\n",
    "\n",
    "g = geocoder.ipinfo('me')\n",
    "if g.ok and g.latlng:\n",
    "    print(f\"Your current location: {g.latlng}\")\n",
    "else:\n",
    "    print(\"Unable to get your location. Please check your internet or API source.\")\n"
   ]
  },
  {
   "cell_type": "code",
   "execution_count": 8,
   "id": "76ff71aa",
   "metadata": {},
   "outputs": [
    {
     "ename": "TclError",
     "evalue": "couldn't open \"images/map.gif\": no such file or directory",
     "output_type": "error",
     "traceback": [
      "\u001b[31m---------------------------------------------------------------------------\u001b[39m",
      "\u001b[31mTclError\u001b[39m                                  Traceback (most recent call last)",
      "\u001b[36mCell\u001b[39m\u001b[36m \u001b[39m\u001b[32mIn[8]\u001b[39m\u001b[32m, line 7\u001b[39m\n\u001b[32m      4\u001b[39m screen.setup(\u001b[32m1280\u001b[39m, \u001b[32m720\u001b[39m)\n\u001b[32m      5\u001b[39m screen.setworldcoordinates(-\u001b[32m180\u001b[39m, -\u001b[32m90\u001b[39m, \u001b[32m180\u001b[39m, \u001b[32m90\u001b[39m)\n\u001b[32m----> \u001b[39m\u001b[32m7\u001b[39m \u001b[43mscreen\u001b[49m\u001b[43m.\u001b[49m\u001b[43mbgpic\u001b[49m\u001b[43m(\u001b[49m\u001b[33;43m\"\u001b[39;49m\u001b[33;43mimages/map.gif\u001b[39;49m\u001b[33;43m\"\u001b[39;49m\u001b[43m)\u001b[49m\n\u001b[32m      8\u001b[39m screen.register_shape(\u001b[33m\"\u001b[39m\u001b[33mimages/iss.gif\u001b[39m\u001b[33m\"\u001b[39m)\n\u001b[32m     10\u001b[39m iss = turtle.Turtle()\n",
      "\u001b[36mFile \u001b[39m\u001b[32mc:\\Users\\Estiyak\\AppData\\Local\\Programs\\Python\\Python313\\Lib\\turtle.py:1472\u001b[39m, in \u001b[36mTurtleScreen.bgpic\u001b[39m\u001b[34m(self, picname)\u001b[39m\n\u001b[32m   1470\u001b[39m     \u001b[38;5;28;01mreturn\u001b[39;00m \u001b[38;5;28mself\u001b[39m._bgpicname\n\u001b[32m   1471\u001b[39m \u001b[38;5;28;01mif\u001b[39;00m picname \u001b[38;5;129;01mnot\u001b[39;00m \u001b[38;5;129;01min\u001b[39;00m \u001b[38;5;28mself\u001b[39m._bgpics:\n\u001b[32m-> \u001b[39m\u001b[32m1472\u001b[39m     \u001b[38;5;28mself\u001b[39m._bgpics[picname] = \u001b[38;5;28;43mself\u001b[39;49m\u001b[43m.\u001b[49m\u001b[43m_image\u001b[49m\u001b[43m(\u001b[49m\u001b[43mpicname\u001b[49m\u001b[43m)\u001b[49m\n\u001b[32m   1473\u001b[39m \u001b[38;5;28mself\u001b[39m._setbgpic(\u001b[38;5;28mself\u001b[39m._bgpic, \u001b[38;5;28mself\u001b[39m._bgpics[picname])\n\u001b[32m   1474\u001b[39m \u001b[38;5;28mself\u001b[39m._bgpicname = picname\n",
      "\u001b[36mFile \u001b[39m\u001b[32mc:\\Users\\Estiyak\\AppData\\Local\\Programs\\Python\\Python313\\Lib\\turtle.py:472\u001b[39m, in \u001b[36mTurtleScreenBase._image\u001b[39m\u001b[34m(self, filename)\u001b[39m\n\u001b[32m    468\u001b[39m \u001b[38;5;28;01mdef\u001b[39;00m\u001b[38;5;250m \u001b[39m\u001b[34m_image\u001b[39m(\u001b[38;5;28mself\u001b[39m, filename):\n\u001b[32m    469\u001b[39m \u001b[38;5;250m    \u001b[39m\u001b[33;03m\"\"\"return an image object containing the\u001b[39;00m\n\u001b[32m    470\u001b[39m \u001b[33;03m    imagedata from a gif-file named filename.\u001b[39;00m\n\u001b[32m    471\u001b[39m \u001b[33;03m    \"\"\"\u001b[39;00m\n\u001b[32m--> \u001b[39m\u001b[32m472\u001b[39m     \u001b[38;5;28;01mreturn\u001b[39;00m \u001b[43mTK\u001b[49m\u001b[43m.\u001b[49m\u001b[43mPhotoImage\u001b[49m\u001b[43m(\u001b[49m\u001b[43mfile\u001b[49m\u001b[43m=\u001b[49m\u001b[43mfilename\u001b[49m\u001b[43m,\u001b[49m\u001b[43m \u001b[49m\u001b[43mmaster\u001b[49m\u001b[43m=\u001b[49m\u001b[38;5;28;43mself\u001b[39;49m\u001b[43m.\u001b[49m\u001b[43mcv\u001b[49m\u001b[43m)\u001b[49m\n",
      "\u001b[36mFile \u001b[39m\u001b[32mc:\\Users\\Estiyak\\AppData\\Local\\Programs\\Python\\Python313\\Lib\\tkinter\\__init__.py:4287\u001b[39m, in \u001b[36mPhotoImage.__init__\u001b[39m\u001b[34m(self, name, cnf, master, **kw)\u001b[39m\n\u001b[32m   4282\u001b[39m \u001b[38;5;28;01mdef\u001b[39;00m\u001b[38;5;250m \u001b[39m\u001b[34m__init__\u001b[39m(\u001b[38;5;28mself\u001b[39m, name=\u001b[38;5;28;01mNone\u001b[39;00m, cnf={}, master=\u001b[38;5;28;01mNone\u001b[39;00m, **kw):\n\u001b[32m   4283\u001b[39m \u001b[38;5;250m    \u001b[39m\u001b[33;03m\"\"\"Create an image with NAME.\u001b[39;00m\n\u001b[32m   4284\u001b[39m \n\u001b[32m   4285\u001b[39m \u001b[33;03m    Valid resource names: data, format, file, gamma, height, palette,\u001b[39;00m\n\u001b[32m   4286\u001b[39m \u001b[33;03m    width.\"\"\"\u001b[39;00m\n\u001b[32m-> \u001b[39m\u001b[32m4287\u001b[39m     \u001b[43mImage\u001b[49m\u001b[43m.\u001b[49m\u001b[34;43m__init__\u001b[39;49m\u001b[43m(\u001b[49m\u001b[38;5;28;43mself\u001b[39;49m\u001b[43m,\u001b[49m\u001b[43m \u001b[49m\u001b[33;43m'\u001b[39;49m\u001b[33;43mphoto\u001b[39;49m\u001b[33;43m'\u001b[39;49m\u001b[43m,\u001b[49m\u001b[43m \u001b[49m\u001b[43mname\u001b[49m\u001b[43m,\u001b[49m\u001b[43m \u001b[49m\u001b[43mcnf\u001b[49m\u001b[43m,\u001b[49m\u001b[43m \u001b[49m\u001b[43mmaster\u001b[49m\u001b[43m,\u001b[49m\u001b[43m \u001b[49m\u001b[43m*\u001b[49m\u001b[43m*\u001b[49m\u001b[43mkw\u001b[49m\u001b[43m)\u001b[49m\n",
      "\u001b[36mFile \u001b[39m\u001b[32mc:\\Users\\Estiyak\\AppData\\Local\\Programs\\Python\\Python313\\Lib\\tkinter\\__init__.py:4234\u001b[39m, in \u001b[36mImage.__init__\u001b[39m\u001b[34m(self, imgtype, name, cnf, master, **kw)\u001b[39m\n\u001b[32m   4232\u001b[39m \u001b[38;5;28;01mfor\u001b[39;00m k, v \u001b[38;5;129;01min\u001b[39;00m cnf.items():\n\u001b[32m   4233\u001b[39m     options = options + (\u001b[33m'\u001b[39m\u001b[33m-\u001b[39m\u001b[33m'\u001b[39m+k, v)\n\u001b[32m-> \u001b[39m\u001b[32m4234\u001b[39m \u001b[38;5;28;43mself\u001b[39;49m\u001b[43m.\u001b[49m\u001b[43mtk\u001b[49m\u001b[43m.\u001b[49m\u001b[43mcall\u001b[49m\u001b[43m(\u001b[49m\u001b[43m(\u001b[49m\u001b[33;43m'\u001b[39;49m\u001b[33;43mimage\u001b[39;49m\u001b[33;43m'\u001b[39;49m\u001b[43m,\u001b[49m\u001b[43m \u001b[49m\u001b[33;43m'\u001b[39;49m\u001b[33;43mcreate\u001b[39;49m\u001b[33;43m'\u001b[39;49m\u001b[43m,\u001b[49m\u001b[43m \u001b[49m\u001b[43mimgtype\u001b[49m\u001b[43m,\u001b[49m\u001b[43m \u001b[49m\u001b[43mname\u001b[49m\u001b[43m,\u001b[49m\u001b[43m)\u001b[49m\u001b[43m \u001b[49m\u001b[43m+\u001b[49m\u001b[43m \u001b[49m\u001b[43moptions\u001b[49m\u001b[43m)\u001b[49m\n\u001b[32m   4235\u001b[39m \u001b[38;5;28mself\u001b[39m.name = name\n",
      "\u001b[31mTclError\u001b[39m: couldn't open \"images/map.gif\": no such file or directory"
     ]
    }
   ],
   "source": [
    "\n",
    "import turtle\n",
    "\n",
    "screen = turtle.Screen()\n",
    "screen.setup(1280, 720)\n",
    "screen.setworldcoordinates(-180, -90, 180, 90)\n",
    "\n",
    "screen.bgpic(\"images/map.gif\")\n",
    "screen.register_shape(\"images/iss.gif\")\n",
    "\n",
    "iss = turtle.Turtle()\n",
    "iss.shape(\"images/iss.gif\")\n",
    "iss.setheading(45)\n",
    "iss.penup()"
   ]
  },
  {
   "cell_type": "code",
   "execution_count": null,
   "id": "fbd28b8d",
   "metadata": {},
   "outputs": [],
   "source": [
    "import json\n",
    "import turtle\n",
    "import urllib.request\n",
    "import time\n",
    "import webbrowser\n",
    "import geocoder\n",
    "\n",
    "# Fetch current astronauts data from the API\n",
    "astronauts_url = \"http://api.open-notify.org/astros.json\"\n",
    "with urllib.request.urlopen(astronauts_url) as response:\n",
    "    astronauts_data = json.loads(response.read())\n",
    "\n",
    "# Write astronauts info to a text file\n",
    "with open(\"iss.txt\", \"w\") as file:\n",
    "    file.write(f\"There are currently {astronauts_data['number']} astronauts on the ISS:\\n\\n\")\n",
    "    for person in astronauts_data[\"people\"]:\n",
    "        file.write(f\"{person['name']} - onboard\\n\")\n",
    "\n",
    "    # Get user's current latitude and longitude\n",
    "    user_location = geocoder.ip('me')\n",
    "    file.write(f\"\\nYour current lat / long is: {user_location.latlng}\")\n",
    "\n",
    "# Open the text file in the default web browser\n",
    "webbrowser.open(\"iss.txt\")\n",
    "\n",
    "# Setup the turtle screen for ISS tracking map\n",
    "screen = turtle.Screen()\n",
    "screen.setup(width=1280, height=720)\n",
    "screen.setworldcoordinates(-180, -90, 180, 90)\n",
    "\n",
    "# Load world map and ISS icon\n",
    "screen.bgpic(\"images/map.gif\")\n",
    "screen.register_shape(\"images/iss.gif\")\n",
    "\n",
    "# Create the turtle representing the ISS\n",
    "iss = turtle.Turtle()\n",
    "iss.shape(\"images/iss.gif\")\n",
    "iss.setheading(45)\n",
    "iss.penup()\n",
    "\n",
    "# API endpoint to get ISS current position\n",
    "iss_position_url = \"http://api.open-notify.org/iss-now.json\"\n",
    "\n",
    "try:\n",
    "    while True:\n",
    "        with urllib.request.urlopen(iss_position_url) as response:\n",
    "            data = json.loads(response.read())\n",
    "\n",
    "        lat = float(data[\"iss_position\"][\"latitude\"])\n",
    "        lon = float(data[\"iss_position\"][\"longitude\"])\n",
    "\n",
    "        print(f\"Latitude: {lat}\")\n",
    "        print(f\"Longitude: {lon}\")\n",
    "\n",
    "        # Update ISS position on map\n",
    "        iss.goto(lon, lat)\n",
    "\n",
    "        # Pause for 5 seconds before updating again\n",
    "        time.sleep(5)\n",
    "\n",
    "except KeyboardInterrupt:\n",
    "    print(\"\\nISS tracking stopped by user.\")\n",
    "    turtle.bye()  # Close turtle window cleanly"
   ]
  }
 ],
 "metadata": {
  "kernelspec": {
   "display_name": "Python 3",
   "language": "python",
   "name": "python3"
  },
  "language_info": {
   "codemirror_mode": {
    "name": "ipython",
    "version": 3
   },
   "file_extension": ".py",
   "mimetype": "text/x-python",
   "name": "python",
   "nbconvert_exporter": "python",
   "pygments_lexer": "ipython3",
   "version": "3.13.2"
  }
 },
 "nbformat": 4,
 "nbformat_minor": 5
}
